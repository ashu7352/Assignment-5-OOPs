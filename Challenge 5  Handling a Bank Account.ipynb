{
 "cells": [
  {
   "cell_type": "markdown",
   "id": "2df38a2d",
   "metadata": {},
   "source": [
    "To implement the methods for handling a bank account using inheritance, you need to define the withdrawal, deposit, getBalance, and interestAmount methods in the Account and SavingsAccount classes. Here's the complete implementation:\n",
    "\n",
    "\n"
   ]
  },
  {
   "cell_type": "code",
   "execution_count": 2,
   "id": "a61a2003",
   "metadata": {},
   "outputs": [
    {
     "name": "stdout",
     "output_type": "stream",
     "text": [
      "2500\n",
      "2000\n",
      "100.0\n"
     ]
    }
   ],
   "source": [
    "\n",
    "class Account:\n",
    "    def __init__(self, title=None, balance=0):\n",
    "        self.title = title\n",
    "        self.balance = balance\n",
    "    \n",
    "    def withdrawal(self, amount):\n",
    "        self.balance -= amount\n",
    "\n",
    "    def deposit(self, amount):\n",
    "        self.balance += amount\n",
    "    \n",
    "    def getBalance(self):\n",
    "        return self.balance\n",
    "\n",
    "class SavingsAccount(Account):\n",
    "    def __init__(self, title=None, balance=0, interestRate=0):\n",
    "        super().__init__(title, balance)\n",
    "        self.interestRate = interestRate\n",
    "    \n",
    "    def interestAmount(self):\n",
    "        return (self.balance * self.interestRate) / 100\n",
    "\n",
    "# code to test - do not edit this\n",
    "\n",
    "demo1 = SavingsAccount(\"Ashish\", 2000, 5)   # initializing a SavingsAccount object\n",
    "demo1.deposit(500)\n",
    "print(demo1.getBalance())      # Output: 2500\n",
    "demo1.withdrawal(500)\n",
    "print(demo1.getBalance())      # Output: 2000\n",
    "print(demo1.interestAmount())  # Output: 100"
   ]
  },
  {
   "cell_type": "markdown",
   "id": "7b805d56",
   "metadata": {},
   "source": [
    "In the 'Account' class, the 'withdrawal' method subtracts the specified amount from the balance, the 'deposit' method adds the specified amount to the 'balance', and the 'getBalance' method returns the current 'balance'.\n",
    "\n",
    "In the 'SavingsAccount' class, the 'interestAmount' method 'calculates' and 'returns' the 'interest' amount based on the balance and interest rate.\n",
    "\n",
    "The code at the end demonstrates the usage of the methods. It creates a SavingsAccount object, performs deposits and withdrawals, and prints the updated balance and interest amount."
   ]
  },
  {
   "cell_type": "code",
   "execution_count": null,
   "id": "a106181f",
   "metadata": {},
   "outputs": [],
   "source": []
  }
 ],
 "metadata": {
  "kernelspec": {
   "display_name": "Python 3 (ipykernel)",
   "language": "python",
   "name": "python3"
  },
  "language_info": {
   "codemirror_mode": {
    "name": "ipython",
    "version": 3
   },
   "file_extension": ".py",
   "mimetype": "text/x-python",
   "name": "python",
   "nbconvert_exporter": "python",
   "pygments_lexer": "ipython3",
   "version": "3.10.9"
  }
 },
 "nbformat": 4,
 "nbformat_minor": 5
}
