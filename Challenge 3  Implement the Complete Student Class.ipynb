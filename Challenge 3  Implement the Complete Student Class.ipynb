{
 "cells": [
  {
   "cell_type": "markdown",
   "id": "3d38bbcb",
   "metadata": {},
   "source": [
    "To implement the Student class with the given requirements, you need to define private properties and their corresponding getter and setter methods. Here's the complete implementation:"
   ]
  },
  {
   "cell_type": "code",
   "execution_count": 1,
   "id": "6158bac9",
   "metadata": {},
   "outputs": [],
   "source": [
    "class Student:\n",
    "    def __init__(self):\n",
    "        self._name = None\n",
    "        self._rollNumber = None\n",
    "\n",
    "    def setName(self, name):\n",
    "        self._name = name\n",
    "\n",
    "    def getName(self):\n",
    "        return self._name\n",
    "\n",
    "    def setRollNumber(self, rollNumber):\n",
    "        self._rollNumber = rollNumber\n",
    "\n",
    "    def getRollNumber(self):\n",
    "        return self._rollNumber\n"
   ]
  },
  {
   "cell_type": "markdown",
   "id": "b524802e",
   "metadata": {},
   "source": [
    "In the Student class, the properties name and rollNumber are defined as private by prefixing an underscore (_). The getter methods (getName and getRollNumber) return the corresponding private properties, and the setter methods (setName and setRollNumber) set the values of the private properties.\n",
    "\n",
    "You can use the class as follows:"
   ]
  },
  {
   "cell_type": "code",
   "execution_count": 2,
   "id": "662899f6",
   "metadata": {},
   "outputs": [
    {
     "name": "stdout",
     "output_type": "stream",
     "text": [
      "John\n",
      "12345\n"
     ]
    }
   ],
   "source": [
    "# Create a Student object\n",
    "student = Student()\n",
    "\n",
    "# Set the name and roll number using the setter methods\n",
    "student.setName(\"John\")\n",
    "student.setRollNumber(12345)\n",
    "\n",
    "# Get the name and roll number using the getter methods\n",
    "name = student.getName()\n",
    "rollNumber = student.getRollNumber()\n",
    "\n",
    "print(name)         # Output: John\n",
    "print(rollNumber)   # Output: 12345\n"
   ]
  },
  {
   "cell_type": "markdown",
   "id": "8f28e385",
   "metadata": {},
   "source": [
    "Note: It's important to note that encapsulation in Python is based on naming conventions, where the underscore prefix indicates that a property or method is intended to be private. However, the actual access restriction is not enforced by the language itself."
   ]
  }
 ],
 "metadata": {
  "kernelspec": {
   "display_name": "Python 3 (ipykernel)",
   "language": "python",
   "name": "python3"
  },
  "language_info": {
   "codemirror_mode": {
    "name": "ipython",
    "version": 3
   },
   "file_extension": ".py",
   "mimetype": "text/x-python",
   "name": "python",
   "nbconvert_exporter": "python",
   "pygments_lexer": "ipython3",
   "version": "3.10.9"
  }
 },
 "nbformat": 4,
 "nbformat_minor": 5
}
