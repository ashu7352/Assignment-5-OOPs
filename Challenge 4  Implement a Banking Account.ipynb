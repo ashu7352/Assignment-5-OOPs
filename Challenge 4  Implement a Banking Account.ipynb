{
 "cells": [
  {
   "cell_type": "markdown",
   "id": "6df934df",
   "metadata": {},
   "source": [
    "To implement the Account and SavingsAccount classes with the given requirements, you need to define the properties and initializers for each class. Here's the complete implementation:"
   ]
  },
  {
   "cell_type": "code",
   "execution_count": 1,
   "id": "58732b76",
   "metadata": {},
   "outputs": [],
   "source": [
    "class Account:\n",
    "    def __init__(self, title, balance):\n",
    "        self.title = title\n",
    "        self.balance = balance\n",
    "\n",
    "class SavingsAccount(Account):\n",
    "    def __init__(self, title, balance, interestRate):\n",
    "        super().__init__(title, balance)\n",
    "        self.interestRate = interestRate\n"
   ]
  },
  {
   "cell_type": "markdown",
   "id": "f903f0c5",
   "metadata": {},
   "source": [
    "In the Account class, the properties title and balance are initialized in the initializer method. The SavingsAccount class inherits from the Account class using the super() function to call the initializer of the parent class and initializes the additional property interestRate.\n",
    "\n",
    "We can create instances of the classes and access their properties as follows:"
   ]
  },
  {
   "cell_type": "code",
   "execution_count": 2,
   "id": "22f5d194",
   "metadata": {},
   "outputs": [
    {
     "name": "stdout",
     "output_type": "stream",
     "text": [
      "Ashish\n",
      "5000\n",
      "Ashish\n",
      "5000\n",
      "5\n"
     ]
    }
   ],
   "source": [
    "# Create an Account object\n",
    "account = Account(\"Ashish\", 5000)\n",
    "print(account.title)   # Output: Ashish\n",
    "print(account.balance) # Output: 5000\n",
    "\n",
    "# Create a SavingsAccount object\n",
    "savingsAccount = SavingsAccount(\"Ashish\", 5000, 5)\n",
    "print(savingsAccount.title)         # Output: Ashish\n",
    "print(savingsAccount.balance)       # Output: 5000\n",
    "print(savingsAccount.interestRate)  # Output: 5\n"
   ]
  },
  {
   "cell_type": "markdown",
   "id": "cf4abb07",
   "metadata": {},
   "source": [
    "In the above code, 'account' is an instance of the 'Account' class, and 'savingsAccount' is an instance of the 'SavingsAccount' class. Both objects have access to the properties defined in their respective classes."
   ]
  }
 ],
 "metadata": {
  "kernelspec": {
   "display_name": "Python 3 (ipykernel)",
   "language": "python",
   "name": "python3"
  },
  "language_info": {
   "codemirror_mode": {
    "name": "ipython",
    "version": 3
   },
   "file_extension": ".py",
   "mimetype": "text/x-python",
   "name": "python",
   "nbconvert_exporter": "python",
   "pygments_lexer": "ipython3",
   "version": "3.10.9"
  }
 },
 "nbformat": 4,
 "nbformat_minor": 5
}
