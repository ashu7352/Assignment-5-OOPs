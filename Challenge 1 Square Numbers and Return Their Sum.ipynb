{
 "cells": [
  {
   "cell_type": "code",
   "execution_count": 2,
   "id": "f38f3fb3",
   "metadata": {},
   "outputs": [],
   "source": [
    "class Point:\n",
    "    def __init__(self, x, y, z):\n",
    "        self.x = x\n",
    "        self.y = y\n",
    "        self.z = z\n",
    "\n",
    "    def sqSum(self):\n",
    "        return (self.x ** 2) + (self.y ** 2) + (self.z ** 2)\n"
   ]
  },
  {
   "cell_type": "markdown",
   "id": "9446fdf8",
   "metadata": {},
   "source": [
    "1. The Point class is defined with three properties: x, y, and z.\n",
    "\n",
    "2. The __init__ method is the constructor used to initialize the values of x, y, and z when creating an instance of the Point class. It takes three arguments x, y, and z and assigns them to the corresponding properties of the instance.\n",
    "\n",
    "3. The sqSum method calculates the sum of the squares of x, y, and z and returns the result. It uses the ** operator to raise each value to the power of 2 and then adds them together."
   ]
  },
  {
   "cell_type": "code",
   "execution_count": 3,
   "id": "117bf678",
   "metadata": {},
   "outputs": [
    {
     "name": "stdout",
     "output_type": "stream",
     "text": [
      "35\n"
     ]
    }
   ],
   "source": [
    "# Create a Point instance with x=1, y=3, z=5\n",
    "point = Point(1, 3, 5)\n",
    "\n",
    "# Calculate the sum of squares\n",
    "result = point.sqSum()\n",
    "\n",
    "# Print the result\n",
    "print(result)  # Output: 35\n"
   ]
  },
  {
   "cell_type": "markdown",
   "id": "bd559d53",
   "metadata": {},
   "source": [
    "In this example, the sqSum method is called on the point instance, and the result is printed, which is 35."
   ]
  },
  {
   "cell_type": "code",
   "execution_count": null,
   "id": "c91a3f54",
   "metadata": {},
   "outputs": [],
   "source": []
  }
 ],
 "metadata": {
  "kernelspec": {
   "display_name": "Python 3 (ipykernel)",
   "language": "python",
   "name": "python3"
  },
  "language_info": {
   "codemirror_mode": {
    "name": "ipython",
    "version": 3
   },
   "file_extension": ".py",
   "mimetype": "text/x-python",
   "name": "python",
   "nbconvert_exporter": "python",
   "pygments_lexer": "ipython3",
   "version": "3.10.9"
  }
 },
 "nbformat": 4,
 "nbformat_minor": 5
}
