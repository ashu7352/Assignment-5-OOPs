{
 "cells": [
  {
   "cell_type": "markdown",
   "id": "88a4ed3a",
   "metadata": {},
   "source": [
    "To implement the Calculator class with the given requirements, you can follow the instructions provided in the problem statement. Here's the complete implementation:"
   ]
  },
  {
   "cell_type": "code",
   "execution_count": 3,
   "id": "84e76d6a",
   "metadata": {},
   "outputs": [
    {
     "name": "stdout",
     "output_type": "stream",
     "text": [
      "104\n",
      "84\n",
      "940\n",
      "9.4\n"
     ]
    }
   ],
   "source": [
    "\n",
    "class Calculator:\n",
    "    def __init__(self, num1, num2):\n",
    "        self.num1 = num1\n",
    "        self.num2 = num2\n",
    "\n",
    "    def add(self):\n",
    "        return self.num1 + self.num2\n",
    "\n",
    "    def subtract(self):\n",
    "        return self.num2 - self.num1\n",
    "\n",
    "    def multiply(self):\n",
    "        return self.num1 * self.num2\n",
    "\n",
    "    def divide(self):\n",
    "        return self.num2 / self.num1\n",
    "\n",
    "# Sample usage\n",
    "obj = Calculator(10, 94)\n",
    "print(obj.add())        # Output: 104\n",
    "print(obj.subtract())   # Output: 84\n",
    "print(obj.multiply())   # Output: 940\n",
    "print(obj.divide())     # Output: 9.4\n"
   ]
  },
  {
   "cell_type": "markdown",
   "id": "c15e09bd",
   "metadata": {},
   "source": [
    "In the Calculator class, the __init__ method initializes the num1 and num2 properties with the provided values. The add, subtract, multiply, and divide methods perform the corresponding arithmetic operations and return the results."
   ]
  }
 ],
 "metadata": {
  "kernelspec": {
   "display_name": "Python 3 (ipykernel)",
   "language": "python",
   "name": "python3"
  },
  "language_info": {
   "codemirror_mode": {
    "name": "ipython",
    "version": 3
   },
   "file_extension": ".py",
   "mimetype": "text/x-python",
   "name": "python",
   "nbconvert_exporter": "python",
   "pygments_lexer": "ipython3",
   "version": "3.10.9"
  }
 },
 "nbformat": 4,
 "nbformat_minor": 5
}
